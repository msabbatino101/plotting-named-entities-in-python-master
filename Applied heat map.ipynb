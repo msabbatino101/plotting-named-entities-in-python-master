{
 "cells": [
  {
   "cell_type": "code",
   "execution_count": 1,
   "metadata": {},
   "outputs": [],
   "source": [
    "# Comments for Patrick\n",
    "#Run this cell\n",
    "import pandas as pd\n",
    "from folium import Map\n",
    "import os\n",
    "import csv\n",
    "from folium.plugins import HeatMap\n",
    "import numpy as np\n",
    "import matplotlib.pyplot as plt\n",
    "%matplotlib inline\n",
    "\n",
    "import geopandas as gpd\n",
    "\n",
    "from urllib import request\n",
    "from geotext import GeoText\n",
    "\n",
    "from geopy.geocoders import Nominatim\n",
    "from geopy.exc import GeocoderTimedOut\n",
    "\n",
    "from shapely.geometry import Point, Polygon\n",
    "import descartes\n",
    "from tika import parser\n",
    "path = '/home/hank/Work/Text.pdf' #This will be the location of your pdf or txt\n",
    "PDFfolder = '/home/hank/Work/' #Location of collections of PDFs"
   ]
  },
  {
   "cell_type": "code",
   "execution_count": 2,
   "metadata": {},
   "outputs": [
    {
     "name": "stdout",
     "output_type": "stream",
     "text": [
      "/home/hank/Work/Exit_Process Greenburg.pdf\n",
      "/home/hank/Work/Text.pdf\n",
      "/home/hank/Work/Exit_Process.pdf\n",
      "/home/hank/Work/Testing1.pdf\n",
      "/home/hank/Work/plotting-named-entities-in-python/Testing.pdf\n"
     ]
    },
    {
     "data": {
      "text/plain": [
       "list"
      ]
     },
     "execution_count": 2,
     "metadata": {},
     "output_type": "execute_result"
    }
   ],
   "source": [
    "pdflist = []\n",
    "total = 0\n",
    "lists = os.walk(PDFfolder)\n",
    "for path, dir, filenames in lists:\n",
    "    for filename in filenames:\n",
    "        if filename.endswith(\".pdf\"):\n",
    "                doc = os.path.join(path,filename)\n",
    "                print(doc)\n",
    "                total += 1 \n",
    "                parsed = parser.from_file(doc)#Change the path you your own, pdf is included into the repo\n",
    "                try:\n",
    "                    doctext = parsed[\"content\"]\n",
    "                    docmeta = parsed[\"metadata\"]\n",
    "                    pdflist.append(doctext)\n",
    "\n",
    "                except Exception as E:\n",
    "                    print(E, \"Document has no text\")\n",
    "                    doctext = ''\n",
    "        else:\n",
    "            continue\n",
    "type(pdflist)"
   ]
  },
  {
   "cell_type": "code",
   "execution_count": 3,
   "metadata": {},
   "outputs": [
    {
     "data": {
      "text/plain": [
       "str"
      ]
     },
     "execution_count": 3,
     "metadata": {},
     "output_type": "execute_result"
    }
   ],
   "source": [
    "#Run this cell to turn the list into strings so it will be able to be plotted\n",
    "pdflist = str(pdflist)\n",
    "type(pdflist)"
   ]
  },
  {
   "cell_type": "code",
   "execution_count": 4,
   "metadata": {},
   "outputs": [
    {
     "name": "stderr",
     "output_type": "stream",
     "text": [
      "/home/hank/anaconda3/lib/python3.7/site-packages/ipykernel_launcher.py:11: DeprecationWarning: Using Nominatim with the default \"geopy/1.22.0\" `user_agent` is strongly discouraged, as it violates Nominatim's ToS https://operations.osmfoundation.org/policies/nominatim/ and may possibly cause 403 and 429 HTTP errors. Please specify a custom `user_agent` with `Nominatim(user_agent=\"my-application\")` or by overriding the default `user_agent`: `geopy.geocoders.options.default_user_agent = \"my-application\"`. In geopy 2.0 this will become an exception.\n",
      "  # This is added back by InteractiveShellApp.init_path()\n"
     ]
    }
   ],
   "source": [
    "#Comment this out if you want to run a pdf\n",
    "#doc = open(\"/home/hank/Work/plotting-named-entities-in-python/text.txt\",encoding=\"utf8\").read()\n",
    "#Change the path on the above code and it'll run a txt file\n",
    "#print(f'{type(raw)}, \\n{len(raw)}, \\n{raw[:501]}')\n",
    "places = GeoText(pdflist)# This is for getting a list of pdf's that have been parsed.\n",
    "\n",
    "cities = list(places.cities)\n",
    "\n",
    "#cities\n",
    "\n",
    "geolocator = Nominatim(timeout=2)\n",
    "\n",
    "lat_lon = []\n",
    "for city in cities: \n",
    "    try:\n",
    "        location = geolocator.geocode(city)\n",
    "        if location:\n",
    "            #print(location.latitude, location.longitude)\n",
    "            lat_lon.append(location)\n",
    "            \n",
    "    except GeocoderTimedOut as e:\n",
    "        print(\"Error: geocode failed on input %s with message %s\"%\n",
    "             (city, e)) #This is giving an error if a location is found in the document but not \n",
    "                        #able to find it's location in real life. "
   ]
  },
  {
   "cell_type": "code",
   "execution_count": 5,
   "metadata": {},
   "outputs": [],
   "source": [
    "#This breaks up lat_lon into seperate columns or else latitude and longitude would be in the\n",
    "#same column in the csv\n",
    "lat = [i[0] for i in lat_lon]\n",
    "lon = [i[1] for i in lat_lon]\n",
    "lon1 = [i[0] for i in lon]\n",
    "lon2 = [i[1] for i in lon]\n",
    "#New list with the proper columns\n",
    "data = {'Location':lat,'latitude': lon1, 'longitude': lon2}\n",
    "#Takes our list and makes it into a dataframe\n",
    "df_lat_lon = pd.DataFrame(data)\n",
    "#Used to name our columns\n",
    "col_names = [\"Location\",\"latitude\",\"longitude\"]\n",
    "#Saves our csv to a particular location\n",
    "path2 = '/home/hank/Work/Loca1.csv' #This is the location for the saved city/country names\n",
    "pd.DataFrame(df_lat_lon).to_csv(path2, header=col_names,index=False)\n"
   ]
  },
  {
   "cell_type": "markdown",
   "metadata": {},
   "source": [
    "###### This reads the csv that we saved in the cell above and uses it to plot the heatmap of our locations"
   ]
  },
  {
   "cell_type": "code",
   "execution_count": 6,
   "metadata": {},
   "outputs": [],
   "source": [
    "df = pd.read_csv(path2)"
   ]
  },
  {
   "cell_type": "code",
   "execution_count": 7,
   "metadata": {},
   "outputs": [],
   "source": [
    "hm_wide = HeatMap(\n",
    "    list(zip(df.latitude.values, df.longitude.values)),\n",
    "    min_opacity=1,\n",
    "    radius=17, \n",
    "    blur=20, #If you adjust this you change the intensity of the heat map\n",
    "    max_zoom=1,\n",
    ")"
   ]
  },
  {
   "cell_type": "code",
   "execution_count": 8,
   "metadata": {},
   "outputs": [
    {
     "data": {
      "text/html": [
       "<div style=\"width:100%;\"><div style=\"position:relative;width:100%;height:0;padding-bottom:60%;\"><span style=\"color:#565656\">Make this Notebook Trusted to load map: File -> Trust Notebook</span><iframe src=\"about:blank\" style=\"position:absolute;width:100%;height:100%;left:0;top:0;border:none !important;\" data-html=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 onload=\"this.contentDocument.open();this.contentDocument.write(atob(this.getAttribute('data-html')));this.contentDocument.close();\" allowfullscreen webkitallowfullscreen mozallowfullscreen></iframe></div></div>"
      ],
      "text/plain": [
       "<folium.folium.Map at 0x7fe2cde57190>"
      ]
     },
     "execution_count": 8,
     "metadata": {},
     "output_type": "execute_result"
    }
   ],
   "source": [
    "for_map = Map(location=[30.169621, -96.683617], zoom_start=4, )\n",
    "for_map.add_child(hm_wide)"
   ]
  }
 ],
 "metadata": {
  "kernelspec": {
   "display_name": "Python 3",
   "language": "python",
   "name": "python3"
  },
  "language_info": {
   "codemirror_mode": {
    "name": "ipython",
    "version": 3
   },
   "file_extension": ".py",
   "mimetype": "text/x-python",
   "name": "python",
   "nbconvert_exporter": "python",
   "pygments_lexer": "ipython3",
   "version": "3.7.6"
  }
 },
 "nbformat": 4,
 "nbformat_minor": 4
}
